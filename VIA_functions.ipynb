{
 "cells": [
  {
   "cell_type": "code",
   "execution_count": 1,
   "id": "a56f8cce",
   "metadata": {},
   "outputs": [],
   "source": [
    "import geopandas as gpd\n",
    "import pandas as pd\n",
    "from shapely import Point, Polygon\n",
    "import matplotlib.pyplot as plt\n",
    "import matplotlib.patches as mpatches\n",
    "import pyproj\n",
    "from osgeo import gdal\n",
    "import numpy as np\n",
    "import rioxarray as rxr\n",
    "from shapely import box\n",
    "import whitebox\n",
    "import rasterio as rio\n",
    "from rasterio.plot import show,show_hist\n",
    "wbt = whitebox.WhiteboxTools()\n",
    "from osgeo import gdal"
   ]
  },
  {
   "cell_type": "code",
   "execution_count": 2,
   "id": "8caab9e8",
   "metadata": {},
   "outputs": [],
   "source": [
    "gdf_tx_aoi = gpd.read_file(r\"datasets/tx_aoi.shp\")"
   ]
  },
  {
   "cell_type": "code",
   "execution_count": 4,
   "id": "819f28da",
   "metadata": {},
   "outputs": [],
   "source": [
    "gdf_tx_aoi = gdf_tx_aoi.to_crs(3857)"
   ]
  },
  {
   "cell_type": "code",
   "execution_count": 10,
   "id": "9bd9bedc",
   "metadata": {},
   "outputs": [],
   "source": [
    "def reproject_raster(input_fpath, out_fpath, crs):\n",
    "    \"\"\"Function to reproject raster\"\"\"\n",
    "    # Open the raster using rioxarray\n",
    "    raster = rxr.open_rasterio(input_fpath)\n",
    "    # Reproject the raster\n",
    "    reprojected_raster = raster.rio.reproject(crs)\n",
    "    # Save the reprojected raster to a new file\n",
    "    reprojected_raster.rio.to_raster(out_fpath)\n",
    "    return out_fpath"
   ]
  },
  {
   "cell_type": "code",
   "execution_count": 11,
   "id": "d50c27ee",
   "metadata": {},
   "outputs": [],
   "source": [
    "reproject_raster('datasets/USGS_13_n29w098_20211103.tif', 'datasets/DEM_aoi.tif', 3857)"
   ]
  },
  {
   "cell_type": "code",
   "execution_count": 13,
   "id": "53ad2edc",
   "metadata": {},
   "outputs": [],
   "source": [
    "def create_cummulative_viewshed(input_dem, input_shapefile, output_viewshed, blade_end_height):\n",
    "    # Whitebox viewshed uses a clip DEM raster, TX AoI Wind Turbine shapefile and creates a \"Viewshed Raster\" as an output\n",
    "    wbt.viewshed(input_dem, input_shapefile, output_viewshed, height=blade_end_height)"
   ]
  },
  {
   "cell_type": "code",
   "execution_count": null,
   "id": "72ca4c64",
   "metadata": {},
   "outputs": [],
   "source": []
  }
 ],
 "metadata": {
  "kernelspec": {
   "display_name": "Python 3 (ipykernel)",
   "language": "python",
   "name": "python3"
  },
  "language_info": {
   "codemirror_mode": {
    "name": "ipython",
    "version": 3
   },
   "file_extension": ".py",
   "mimetype": "text/x-python",
   "name": "python",
   "nbconvert_exporter": "python",
   "pygments_lexer": "ipython3",
   "version": "3.9.16"
  }
 },
 "nbformat": 4,
 "nbformat_minor": 5
}
