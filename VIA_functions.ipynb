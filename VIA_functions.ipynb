{
 "cells": [
  {
   "cell_type": "code",
   "execution_count": 2,
   "id": "a56f8cce",
   "metadata": {},
   "outputs": [],
   "source": [
    "import geopandas as gpd\n",
    "import pandas as pd\n",
    "from shapely import Point, Polygon\n",
    "import matplotlib.pyplot as plt\n",
    "import matplotlib.patches as mpatches\n",
    "import pyproj\n",
    "from osgeo import gdal\n",
    "import numpy as np\n",
    "import rioxarray as rxr\n",
    "from shapely import box\n",
    "from shapely.geometry import Point, MultiPolygon\n",
    "import whitebox\n",
    "import rasterio as rio\n",
    "from rasterio.plot import show,show_hist\n",
    "from rasterio.merge import merge\n",
    "from rasterio.enums import Resampling, MergeAlg\n",
    "from rasterio import features\n",
    "wbt = whitebox.WhiteboxTools()\n",
    "from osgeo import gdal\n",
    "from numpy import int16, int32\n",
    "import os, sys"
   ]
  },
  {
   "cell_type": "code",
   "execution_count": 97,
   "id": "9bd9bedc",
   "metadata": {},
   "outputs": [],
   "source": [
    "def reproject_raster(input_fpath, out_fpath, crs):\n",
    "    \"\"\"Function to reproject raster\"\"\"\n",
    "    # Open the raster using rioxarray\n",
    "    raster = rxr.open_rasterio(input_fpath)\n",
    "    # Reproject the raster\n",
    "    reprojected_raster = raster.rio.reproject(crs)\n",
    "    # Save the reprojected raster to a new file\n",
    "    reprojected_raster.rio.to_raster(out_fpath)\n",
    "    return out_fpath"
   ]
  },
  {
   "cell_type": "code",
   "execution_count": 98,
   "id": "53ad2edc",
   "metadata": {},
   "outputs": [],
   "source": [
    "def create_cummulative_viewshed(input_dem, input_shapefile, output_viewshed, blade_end_height):\n",
    "    # Whitebox viewshed uses a clip DEM raster, TX AoI Wind Turbine shapefile and creates a \"Viewshed Raster\" as an output\n",
    "    wbt.viewshed(input_dem, input_shapefile, output_viewshed, height=blade_end_height)"
   ]
  },
  {
   "cell_type": "code",
   "execution_count": 99,
   "id": "72ca4c64",
   "metadata": {},
   "outputs": [],
   "source": [
    "# Convert buffer units from mile to meter\n",
    "def mile2meter(mile):\n",
    "    \"\"\"Function to convert and return buffer units from miles to meters\"\"\"\n",
    "    return (1609.34*mile)\n",
    "# Displays a plot with default colors\n",
    "def visualize_wind_turbines_buffers(dataframe, title = \"Wind Turbine locations with Buffer (EPSG:3857)\"):\n",
    "    \"\"\"Function to visualize default buffer sizes with turbine point locations\"\"\"\n",
    "    # Reads and reprojects wind turbine GeoDataFrame to EPSG:3857\n",
    "    gdf_aoi = dataframe.to_crs(3857)\n",
    "    # Create buffers for each point of sizes - 0.5, 4, 10 miles\n",
    "    gdf_aoi_buffer_half_mile = gdf_aoi.geometry.buffer(mile2meter(0.5))\n",
    "    gdf_aoi_buffer_four_mile = gdf_aoi.geometry.buffer(mile2meter(4))\n",
    "    gdf_aoi_buffer_ten_mile = gdf_aoi.geometry.buffer(mile2meter(10))\n",
    "    # Merge buffers into a single polygon and geometry is stored\n",
    "    geom_half_mile = gdf_aoi_buffer_half_mile.geometry.unary_union\n",
    "    geom_four_mile = gdf_aoi_buffer_four_mile.geometry.unary_union\n",
    "    geom_ten_mile = gdf_aoi_buffer_ten_mile.geometry.unary_union\n",
    "    # Each geometry is loaded as a GeoDataFrame\n",
    "    s0 = gpd.GeoDataFrame(geometry=[geom_half_mile])\n",
    "    s1 = gpd.GeoDataFrame(geometry=[geom_four_mile])\n",
    "    s2 = gpd.GeoDataFrame(geometry=[geom_ten_mile])\n",
    "    sp = gdf_aoi.geometry\n",
    "    # Create a subplot and plot all geometries onto same plot\n",
    "    fig, ax = plt.subplots(figsize=(10, 5))\n",
    "    # Face colors are from Colorbrewer.org \n",
    "    s2.plot(ax=ax, facecolor='#e0ecf4', label='1')\n",
    "    s1.plot(ax=ax, facecolor='#9ebcda')\n",
    "    s0.plot(ax=ax, facecolor='#8856a7')\n",
    "    sp.plot(ax=ax, color='#f0f0f0', marker=\"+\", label=\"Wind Turbine\")\n",
    "    # Create custom legend handles\n",
    "    legend_handles = [\n",
    "        mpatches.Patch(color='#e0ecf4',  label=\"10 mile\"),\n",
    "        mpatches.Patch(color='#9ebcda', label=\"4 mile\"),\n",
    "        mpatches.Patch(color='#8856a7', label=\"0.5 mile\")\n",
    "    ]\n",
    "    # Add a legend to the plot with custom handles\n",
    "    ax.legend(handles=legend_handles)\n",
    "    plt.title(title)\n",
    "    plt.xlabel('Longitude (meter)')\n",
    "    plt.ylabel('Latitude (meter)')\n",
    "    plt.show()"
   ]
  },
  {
   "cell_type": "code",
   "execution_count": 100,
   "id": "0cca0988",
   "metadata": {},
   "outputs": [],
   "source": [
    "# Creates a plot for viewshed with legend\n",
    "def visualize_viewshed_windturbines(viewshed_fpath, dataframe, cmap=\"gist_yarg\", title=\"Viewshed for Wind Turbine locations\"):\n",
    "    \"\"\"Function to create visualization of viewshed with legend\"\"\"\n",
    "    viewshed = rio.open(viewshed_fpath)\n",
    "    fig, ax = plt.subplots(figsize=(10,5))\n",
    "    image_hidden = ax.imshow(viewshed.read()[0], cmap=cmap)\n",
    "    fig.colorbar(image_hidden, ax=ax, cmap=cmap)\n",
    "    df = dataframe.to_crs(viewshed.crs.to_epsg())\n",
    "    df.plot(ax=ax, marker=\"+\", color=\"gray\")\n",
    "    show(viewshed, ax=ax, cmap=cmap)\n",
    "    ax.set_title(f\"{title} (EPSG:{viewshed.crs.to_epsg()})\")\n",
    "    plt.xlabel(f'Longitude ({viewshed.crs.units_factor[0]})')\n",
    "    plt.ylabel(f'Latitude ({viewshed.crs.units_factor[0]})')\n",
    "    plt.show()"
   ]
  },
  {
   "cell_type": "code",
   "execution_count": 101,
   "id": "a8fcd857",
   "metadata": {},
   "outputs": [],
   "source": [
    "# Creates a plot for viewshed with legend\n",
    "def visualize_viewshed(viewshed_fpath, cmap=\"gist_yarg\", title=\"Viewshed for a Wind Turbine location\"):\n",
    "    \"\"\"Function to create visualization of viewshed with legend\"\"\"\n",
    "    viewshed = rio.open(viewshed_fpath)\n",
    "    fig, ax = plt.subplots(figsize=(10,5))\n",
    "    image_hidden = ax.imshow(viewshed.read()[0], cmap=cmap)\n",
    "    fig.colorbar(image_hidden, ax=ax, cmap=cmap)\n",
    "    show(viewshed, ax=ax, cmap=cmap)\n",
    "    ax.set_title(f\"{title} (EPSG:{viewshed.crs.to_epsg()})\")\n",
    "    plt.xlabel(f'Longitude ({viewshed.crs.units_factor[0]})')\n",
    "    plt.ylabel(f'Latitude ({viewshed.crs.units_factor[0]})')\n",
    "    plt.show()"
   ]
  },
  {
   "cell_type": "code",
   "execution_count": 102,
   "id": "4790cdde",
   "metadata": {},
   "outputs": [],
   "source": [
    "def visualize_dem(dem_fpath, cmap=\"gist_earth\", title=\"Digital Elevation Model\"):\n",
    "    dst = rio.open(dem_fpath)\n",
    "    fig, ax = plt.subplots(figsize=(10,5))\n",
    "    image_hidden = ax.imshow(dst.read()[0], cmap=cmap)\n",
    "    fig.colorbar(image_hidden, ax=ax, cmap=cmap)\n",
    "    show(dst,ax=ax, cmap=cmap)\n",
    "    ax.set_title(f'{title} (EPSG:{dst.crs.to_epsg()})')\n",
    "    plt.xlabel(f'Longitude ({dst.crs.units_factor[0]})')\n",
    "    plt.ylabel(f'Latitude ({dst.crs.units_factor[0]})')\n",
    "    plt.show()"
   ]
  },
  {
   "cell_type": "code",
   "execution_count": 103,
   "id": "39b032f3",
   "metadata": {},
   "outputs": [],
   "source": [
    "def visualize_wind_turbines(dataframe, title=\"Wind Turbine locations\"):\n",
    "    dataframe.plot(marker=\"+\")\n",
    "    plt.title(title)\n",
    "    plt.xlabel('Longitude (meter)')\n",
    "    plt.ylabel('Latitude (meter)')\n",
    "    plt.show()"
   ]
  },
  {
   "cell_type": "code",
   "execution_count": 104,
   "id": "8192782f",
   "metadata": {},
   "outputs": [],
   "source": [
    "def create_relative_viewsheds(locations_shapefile, input_viewshed, output_dir, height, rl_type):\n",
    "    gdf = gpd.read_file(locations_shapefile)\n",
    "    input_viewshed = input_viewshed\n",
    "    output_dir = output_dir\n",
    "    height = height\n",
    "    # Create the output directory if it doesn't exist\n",
    "    if not os.path.exists(output_dir):\n",
    "        os.mkdir(output_dir)\n",
    "    # Create a relative viewshed for each point\n",
    "    for idx, row in enumerate(gdf.itertuples(), start=1):\n",
    "        x = row.geometry.x\n",
    "        y = row.geometry.y\n",
    "        # Create a unique output filename for each point with an index\n",
    "        output_filename = os.path.join(output_dir, f'viewshed_{idx}_{rl_type}.tif')\n",
    "        # Run gdal_viewshed for each point\n",
    "        command = f'gdal_viewshed -md {height} -ox {x} -oy {y} {input_viewshed} {output_filename}'\n",
    "        os.system(command)\n",
    "        print(f'Viewshed created for point ({x}, {y}) and saved as {output_filename}')\n",
    "\n",
    "    # Close the input and output datasets\n",
    "    input_ds = None\n",
    "    point_ds = None"
   ]
  },
  {
   "cell_type": "code",
   "execution_count": 105,
   "id": "ea0155fa",
   "metadata": {},
   "outputs": [],
   "source": [
    "def create_relative_viewsheds(locations_shapefile, input_viewshed, output_dir, height, rl_type):\n",
    "    gdf = gpd.read_file(locations_shapefile)\n",
    "    input_viewshed = input_viewshed\n",
    "    output_dir = output_dir\n",
    "    height = height\n",
    "    # Create the output directory if it doesn't exist\n",
    "    if not os.path.exists(output_dir):\n",
    "        os.mkdir(output_dir)\n",
    "    # Create a relative viewshed for each point\n",
    "    for idx, row in enumerate(gdf.itertuples(), start=1):\n",
    "        x = row.geometry.x\n",
    "        y = row.geometry.y\n",
    "        # Create a unique output filename for each point with an index\n",
    "        output_filename = os.path.join(output_dir, f'viewshed_{idx}_{rl_type}.tif')\n",
    "        # Run gdal_viewshed for each point\n",
    "        command = f'gdal_viewshed -oz {height} -ox {x} -oy {y} {input_viewshed} {output_filename}'\n",
    "        os.system(command)\n",
    "        print(f'Viewshed created for point ({x}, {y}) and saved as {output_filename}')\n",
    "\n",
    "    # Close the input and output datasets\n",
    "    input_ds = None\n",
    "    point_ds = None"
   ]
  },
  {
   "cell_type": "code",
   "execution_count": 106,
   "id": "37c00379",
   "metadata": {},
   "outputs": [],
   "source": [
    "def reclass_raster(viewshed_folder_path, original_value, new_value):\n",
    "    for file in os.listdir(viewshed_folder_path):\n",
    "        input_raster = os.path.join(viewshed_folder_path, file)\n",
    "        # Value to reclassify\n",
    "        original_value = original_value\n",
    "        new_value = new_value\n",
    "        # Open the input raster\n",
    "        if input_raster.endswith('.tif'):\n",
    "            with rio.open(input_raster) as src:\n",
    "                # Read the raster data\n",
    "                data = src.read(1)\n",
    "                # Reclassify the data\n",
    "                reclassified_data = np.where(data == original_value, new_value, data)\n",
    "                # Update the data type to ensure it matches the output\n",
    "                reclassified_data = reclassified_data.astype(src.profile['dtype'])\n",
    "                # Copy the metadata from the source raster\n",
    "                profile = src.profile\n",
    "                output_raster = file.replace('.tif','_rc.tif')\n",
    "                output_path = os.path.join(viewshed_folder_path, output_raster)\n",
    "                # Write the reclassified data to the output raster\n",
    "                with rio.open(output_path, 'w', **profile) as dst:\n",
    "                    dst.write(reclassified_data, 1)\n",
    "            print(f\"Reclassification complete. Output saved as {output_path}\")\n",
    "        else:\n",
    "            pass"
   ]
  },
  {
   "cell_type": "code",
   "execution_count": 107,
   "id": "6ea596d0",
   "metadata": {},
   "outputs": [],
   "source": [
    "# Function to merge reclassified rasters\n",
    "def merge_rasters(input_paths, output_path):\n",
    "    # Open each input raster\n",
    "    src_files_to_mosaic = [rio.open(path) for path in input_paths]\n",
    "    # Merge rasters\n",
    "    merged_data, merged_transform = merge(src_files_to_mosaic, method='max', resampling=Resampling.nearest)\n",
    "    # Update metadata for the output raster\n",
    "    out_meta = src_files_to_mosaic[0].meta.copy()\n",
    "    out_meta.update({\"driver\": \"GTiff\", \n",
    "                     \"height\": merged_data.shape[1], \n",
    "                     \"width\": merged_data.shape[2], \n",
    "                     \"transform\": merged_transform})\n",
    "    # Write the merged raster to the output file\n",
    "    with rio.open(output_path, \"w\", **out_meta) as dest:\n",
    "        dest.write(merged_data)\n",
    "    src_files_to_mosaic = []\n",
    "    print(f\"Mosaic created at {output_path}\")"
   ]
  },
  {
   "cell_type": "code",
   "execution_count": 108,
   "id": "fed7e482",
   "metadata": {},
   "outputs": [],
   "source": [
    "def unique_value(input_fpath):\n",
    "    with rio.open(input_fpath) as dst:\n",
    "        data = dst.read()\n",
    "        print(np.unique(data))"
   ]
  },
  {
   "cell_type": "code",
   "execution_count": 109,
   "id": "d2f8afd4",
   "metadata": {},
   "outputs": [],
   "source": [
    "def create_concentric_buffers(center_point, radii):\n",
    "    buffers = [center_point.buffer(r) for r in radii]\n",
    "    buffer0 = buffers[0]\n",
    "    buffer1 = buffers[1].difference(buffers[0])\n",
    "    buffer2 = buffers[2].difference(buffers[1])\n",
    "    buffer3 = buffers[3].difference(buffers[2])\n",
    "    ring_buffers = [buffer0, buffer1, buffer2, buffer3]\n",
    "    return MultiPolygon(ring_buffers)\n",
    "\n",
    "def kilo2meter(km):\n",
    "    return km*1000\n",
    "\n",
    "def rasterize_concentric_buffers(reference_raster, buffers, buffer_values_list, output_raster_path):\n",
    "    raster = rio.open(reference_raster)\n",
    "    vector_ids = buffer_values_list\n",
    "    geom_value = ((geom,value) for geom, value in zip(buffers.geoms, vector_ids))\n",
    "    # Rasterize vector using the shape and coordinate system of the raster\n",
    "    rasterized = features.rasterize(geom_value,\n",
    "                                    out_shape = raster.shape,\n",
    "                                    transform = raster.transform,\n",
    "                                    all_touched = False,\n",
    "                                    fill = 0,   # background value\n",
    "                                    merge_alg = MergeAlg.replace,\n",
    "                                    dtype = int16)\n",
    "    with rio.open(output_raster_path, \"w\", driver = \"GTiff\", crs = raster.crs, transform = raster.transform,\n",
    "        dtype = rasterio.uint8,\n",
    "        count = 1,\n",
    "        width = raster.width,\n",
    "        height = raster.height) as dst:\n",
    "        dst.write(rasterized, indexes = 1)\n",
    "    raster = None"
   ]
  },
  {
   "cell_type": "code",
   "execution_count": 110,
   "id": "f9a1cc04",
   "metadata": {},
   "outputs": [],
   "source": [
    "def create_turbine_multiringbuffer_raster(locations_shapefile, reference_raster, output_folder_path):\n",
    "    raster_flist = []\n",
    "    gdf = gpd.read_file(locations_shapefile)\n",
    "    gdf = gdf.to_crs(3857)\n",
    "    for index, row in enumerate(gdf.itertuples()):\n",
    "        point_geom = row.geometry\n",
    "        radii = [kilo2meter(0.8), kilo2meter(3.2), kilo2meter(8), kilo2meter(16.1)]\n",
    "        buffers = create_concentric_buffers(point_geom, radii)\n",
    "        output_raster_path = os.path.join(output_folder_path, f'rasterized_{index+1}_turbine_buffer.tif')\n",
    "        buffer_values_list = [1,2,3,4]\n",
    "        rasterize_concentric_buffers(reference_raster, buffers, buffer_values_list, output_raster_path)\n",
    "        raster_flist.append(output_raster_path)\n",
    "        point_geom = None\n",
    "        buffers = None\n",
    "    return raster_flist"
   ]
  },
  {
   "cell_type": "code",
   "execution_count": 111,
   "id": "5374238a",
   "metadata": {},
   "outputs": [],
   "source": [
    "def create_turbine_viz_prominence(input_paths, output_path):\n",
    "    files = [rxr.open_rasterio(path) for path in input_paths]\n",
    "    raster_sum = files[0] + files[1]\n",
    "    raster_sum.rio.to_raster(output_path)"
   ]
  },
  {
   "cell_type": "code",
   "execution_count": 112,
   "id": "c8b60169",
   "metadata": {},
   "outputs": [],
   "source": [
    "def reclass_vizexp(vizexp_fpath):\n",
    "    for file in os.listdir(vizexp_fpath):\n",
    "        input_raster = os.path.join(vizexp_fpath, file)\n",
    "        # Open the input raster\n",
    "        if input_raster.endswith('.tif'):\n",
    "            with rio.open(input_raster) as src:\n",
    "                # Read the raster data\n",
    "                data = src.read(1)\n",
    "                rc = data.copy()\n",
    "\n",
    "                # Reclassify the data\n",
    "                reclass_dict = {\n",
    "                    0: [0, 1, 2, 3, 4, 10, 14, 20, 30],\n",
    "                    4: [11, 22, 33],\n",
    "                    2: [12, 23, 34],\n",
    "                    1: [13, 24],\n",
    "                    7: [21],\n",
    "                    6: [32],\n",
    "                    10: [31]\n",
    "                }\n",
    "\n",
    "                for output_value, input_values in reclass_dict.items():\n",
    "                    rc[np.isin(rc, input_values)] = output_value\n",
    "\n",
    "                output_raster = file.replace('.tif', '_rc.tif')\n",
    "                output_path = os.path.join(vizexp_fpath, output_raster)\n",
    "\n",
    "                # Write the reclassified data to the output raster\n",
    "                with rio.open(output_path, 'w', driver=src.driver, height=src.height, width=src.width,\n",
    "                             count=src.count, crs=src.crs, transform=src.transform, dtype=data.dtype) as dst:\n",
    "                    dst.write(rc, 1)\n",
    "\n",
    "                print(f\"Reclassification complete. Output saved as {output_path}\")\n",
    "        else:\n",
    "            pass"
   ]
  },
  {
   "cell_type": "code",
   "execution_count": 113,
   "id": "337ec124",
   "metadata": {},
   "outputs": [],
   "source": [
    "def reclass_meaningful_visibility(vizexp_fpath):\n",
    "    for file in os.listdir(vizexp_fpath):\n",
    "        input_raster = os.path.join(vizexp_fpath, file)\n",
    "        # Open the input raster\n",
    "        if 'rc' not in input_raster:\n",
    "            with rio.open(input_raster) as src:\n",
    "                # Read the raster data\n",
    "                data = src.read(1)\n",
    "                rc = data.copy()\n",
    "\n",
    "                # Reclassify the data\n",
    "                reclass_dict = {\n",
    "                    0: [0, 1, 2, 3, 4, 10, 14, 20, 30],\n",
    "                    1: [11, 12, 13, 21, 22, 23, 24, 31, 32, 33, 34]\n",
    "                }\n",
    "\n",
    "                for output_value, input_values in reclass_dict.items():\n",
    "                    rc[np.isin(rc, input_values)] = output_value\n",
    "\n",
    "                output_raster = file.replace('vizexp.tif', 'mv_rc.tif')\n",
    "                output_path = os.path.join(vizexp_fpath, output_raster)\n",
    "\n",
    "                # Write the reclassified data to the output raster\n",
    "                with rio.open(output_path, 'w', driver=src.driver, height=src.height, width=src.width,\n",
    "                             count=src.count, crs=src.crs, transform=src.transform, dtype=data.dtype) as dst:\n",
    "                    dst.write(rc, 1)\n",
    "\n",
    "                print(f\"Reclassification complete. Output saved as {output_path}\")\n",
    "        else:\n",
    "            pass"
   ]
  },
  {
   "cell_type": "code",
   "execution_count": 114,
   "id": "9e37ed64",
   "metadata": {},
   "outputs": [],
   "source": [
    "def calc_cummulative_visualprominence(input_paths, output_path):\n",
    "    # Initialize raster_sum\n",
    "    raster_sum = None\n",
    "    # Open each raster file and accumulate values\n",
    "    for file in input_paths:\n",
    "        raster = rxr.open_rasterio(file)\n",
    "        if raster_sum is None:\n",
    "            raster_sum = raster\n",
    "        else:\n",
    "            raster_sum += raster\n",
    "\n",
    "    # Write the cumulative raster to the output path\n",
    "    raster_sum.rio.to_raster(output_path)\n",
    "    \n",
    "    print('Created cumulative viz prominence')"
   ]
  },
  {
   "cell_type": "code",
   "execution_count": 115,
   "id": "790813b2",
   "metadata": {},
   "outputs": [],
   "source": [
    "def calc_mean_prominence(vizexp_fpath, mv_fpath, output_path):\n",
    "    with rio.open(vizexp_fpath) as src1, rio.open(mv_fpath) as src2:\n",
    "        # Read the raster data\n",
    "        data1 = src1.read(1)\n",
    "        data2 = src2.read(1)\n",
    "\n",
    "        # Avoid division by zero\n",
    "        data2_nonzero = data2.copy()\n",
    "        data2_nonzero[data2 == 0] = 1\n",
    "\n",
    "        # Perform the division\n",
    "        result = np.where(data2 == 0, np.nan, data1 / data2_nonzero)\n",
    "\n",
    "        # Write the result to the output raster\n",
    "        profile = src1.profile\n",
    "        profile.update(dtype='float32', count=1)\n",
    "\n",
    "        with rasterio.open(output_path, 'w', **profile) as dst:\n",
    "            dst.write(result, 1)"
   ]
  },
  {
   "cell_type": "code",
   "execution_count": 116,
   "id": "8caab9e8",
   "metadata": {},
   "outputs": [],
   "source": [
    "gdf_tx_aoi = gpd.read_file(r\"datasets/tx_aoi.shp\")\n",
    "gdf_tx_aoi = gdf_tx_aoi.to_crs(3857)"
   ]
  },
  {
   "cell_type": "code",
   "execution_count": 137,
   "id": "34de4722",
   "metadata": {},
   "outputs": [
    {
     "data": {
      "text/plain": [
       "42"
      ]
     },
     "execution_count": 137,
     "metadata": {},
     "output_type": "execute_result"
    }
   ],
   "source": [
    "len(gdf_tx_aoi)"
   ]
  },
  {
   "cell_type": "code",
   "execution_count": 117,
   "id": "0d1c6807",
   "metadata": {},
   "outputs": [
    {
     "data": {
      "text/plain": [
       "<Axes: >"
      ]
     },
     "execution_count": 117,
     "metadata": {},
     "output_type": "execute_result"
    },
    {
     "data": {
      "image/png": "[encoded data removed]",
      "text/plain": [
       "<Figure size 640x480 with 1 Axes>"
      ]
     },
     "metadata": {},
     "output_type": "display_data"
    }
   ],
   "source": [
    "gdf_tx_aoi.iloc[1:2].plot(marker=\"+\", color=\"gray\")"
   ]
  },
  {
   "cell_type": "code",
   "execution_count": 118,
   "id": "e22bd328",
   "metadata": {},
   "outputs": [],
   "source": [
    "def visualize_viewshed_windturbine(fpath,viewshed_fpath, turbine_index, cmap=\"gist_yarg\", title=\"Viewshed for Wind Turbine\"):\n",
    "    \"\"\"Function to create visualization of viewshed with legend\"\"\"\n",
    "    try:\n",
    "        viewshed = rio.open(viewshed_fpath)\n",
    "        fig, ax = plt.subplots(figsize=(10,5))\n",
    "        image_hidden = ax.imshow(viewshed.read()[0], cmap=cmap)\n",
    "        fig.colorbar(image_hidden, ax=ax, cmap=cmap)\n",
    "        gdf = gpd.read_file(fpath)\n",
    "        gdf = gdf.to_crs(3857)\n",
    "        gdf.iloc[turbine_index-1:turbine_index].plot(ax=ax, marker=\"1\", color=\"#31a354\", markersize=1000)\n",
    "        show(viewshed, ax=ax, cmap=cmap)\n",
    "        ax.set_title(f\"{title} {turbine_index} (EPSG:{viewshed.crs.to_epsg()})\")\n",
    "        plt.xlabel(f'Longitude ({viewshed.crs.units_factor[0]})')\n",
    "        plt.ylabel(f'Latitude ({viewshed.crs.units_factor[0]})')\n",
    "        plt.show()\n",
    "        viewshed = None\n",
    "    except TypeError as e:\n",
    "        print(\"Wrong type assigned to turbine index, it has to be an integer and within index range\")\n",
    "    except turbine_index not in range(0, len(gdf)):\n",
    "        print(f\"Turbine index is out range, please enter a range between (0:{len(gdf)})\")"
   ]
  },
  {
   "cell_type": "code",
   "execution_count": 27,
   "id": "b1e8135a",
   "metadata": {},
   "outputs": [
    {
     "name": "stdout",
     "output_type": "stream",
     "text": [
      "Enter a value to check merged viewshed:\"22\"\n",
      "Turbine index has to be an integer\n"
     ]
    }
   ],
   "source": [
    "input_value = input(\"Enter a value to check merged viewshed:\")\n",
    "visualize_viewshed_windturbine(\"datasets/tx_aoi.shp\",\n",
    "                              f\"viewsheds_merged/merged_22_viewshed_reproj.tif\",\n",
    "                              input_value)"
   ]
  },
  {
   "cell_type": "code",
   "execution_count": 24,
   "id": "6936f216",
   "metadata": {},
   "outputs": [],
   "source": [
    "def visualize_viewshed_windturbine(fpath, viewshed_fpath, turbine_index, cmap=\"gist_yarg\", title=\"Viewshed for Wind Turbine\"):\n",
    "    \"\"\"Function to create visualization of viewshed with legend\"\"\"\n",
    "    try:\n",
    "        # Open the viewshed raster\n",
    "        viewshed = rio.open(viewshed_fpath)\n",
    "        # Read the turbine locations GeoDataFrame\n",
    "        gdf = gpd.read_file(fpath)\n",
    "        gdf = gdf.to_crs(3857)\n",
    "        if not isinstance(turbine_index, int):\n",
    "            raise TypeError(\"Turbine index has to be an integer\")\n",
    "        if turbine_index not in range(1, len(gdf)+1):\n",
    "            raise ValueError\n",
    "        # Plot the viewshed\n",
    "        fig, ax = plt.subplots(figsize=(10, 5))\n",
    "        image_hidden = ax.imshow(viewshed.read()[0], cmap=cmap)\n",
    "        fig.colorbar(image_hidden, ax=ax, cmap=cmap)\n",
    "        # Plot the turbine location\n",
    "        gdf.iloc[turbine_index-1:turbine_index].plot(ax=ax, marker=\"1\", color=\"#31a354\", markersize=1000)\n",
    "        # Show the plot\n",
    "        show(viewshed, ax=ax, cmap=cmap)\n",
    "        # Set plot title and labels\n",
    "        ax.set_title(f\"{title} {turbine_index} (EPSG:{viewshed.crs.to_epsg()})\")\n",
    "        plt.xlabel(f'Longitude ({viewshed.crs.units_factor[0]})')\n",
    "        plt.ylabel(f'Latitude ({viewshed.crs.units_factor[0]})')\n",
    "        plt.show()\n",
    "    except TypeError as e:\n",
    "        print(f\"{str(e)}\")\n",
    "    except ValueError:\n",
    "        print(f\"Turbine index has to be in range (1,{len(gdf)})\")\n",
    "    except IOError as e:\n",
    "        print(f\"{viewshed_fpath} does not exist in path\")\n",
    "    except Exception as e:\n",
    "        print(f\"An unexpected error occurred: {str(e)}\")\n",
    "    finally:\n",
    "        if \"viewshed\" in locals() and viewshed is not None:\n",
    "            viewshed.close()"
   ]
  },
  {
   "cell_type": "code",
   "execution_count": 66,
   "id": "9b625341",
   "metadata": {},
   "outputs": [],
   "source": [
    "def read_windturbine_file(path):\n",
    "        \"\"\"Function to read US Wind Turbine dataset\"\"\"\n",
    "        try:\n",
    "            # Reads shapefile and reprojects it to EPSG:3857\n",
    "            if path.endswith(\".shp\"):\n",
    "                gdf = gpd.read_file(f\"{path}\")\n",
    "                gdf = gdf.to_crs(3857)\n",
    "                return gdf\n",
    "            # Reads CSV and reprojects it to EPSG:3857\n",
    "            if path.endswith(\".csv\"):\n",
    "                df = pd.read_csv(f\"{path}\")\n",
    "                df_columns = list(df.columns.values)\n",
    "                if \"geometry\" in df_columns:\n",
    "                    df = df.drop(labels=[\"geometry\"],axis=1)\n",
    "                lon_lat_cols = []\n",
    "                if \"xlong\" and \"ylat\" not in df_columns:\n",
    "                    raise ValueError(\"Latitude, Longitude columns has to be renamed as xlong, ylat\")\n",
    "                gdf = gpd.GeoDataFrame(data=df, geometry=gpd.points_from_xy(df['xlong'], df['ylat']))\n",
    "                # Set CRS to 3D coordinate systems ESPG:4326\n",
    "                gdf = gdf.set_crs(4326)\n",
    "                # Reproject to EPSG:3857\n",
    "                gdf = gdf.to_crs(3857)\n",
    "                return gdf\n",
    "        except IOError as e:\n",
    "            print(f\"File does not exist in the path and {str(e)}\")\n",
    "        except FileNotFoundError:\n",
    "            print(f\"File not found: {path}\")\n",
    "        except ValueError as e:\n",
    "            print(f\"{str(e)}. Populate data as in US Wind Turbine database format\")"
   ]
  },
  {
   "cell_type": "code",
   "execution_count": 67,
   "id": "11f95fae",
   "metadata": {},
   "outputs": [
    {
     "name": "stdout",
     "output_type": "stream",
     "text": [
      "File does not exist in the path and [Errno 2] No such file or directory: 'tx_aoi_1.csv'\n"
     ]
    }
   ],
   "source": [
    "gdf = read_windturbine_file(\"tx_aoi_1.csv\")"
   ]
  },
  {
   "cell_type": "code",
   "execution_count": null,
   "id": "964bfe1b",
   "metadata": {},
   "outputs": [],
   "source": []
  }
 ],
 "metadata": {
  "kernelspec": {
   "display_name": "Python 3 (ipykernel)",
   "language": "python",
   "name": "python3"
  },
  "language_info": {
   "codemirror_mode": {
    "name": "ipython",
    "version": 3
   },
   "file_extension": ".py",
   "mimetype": "text/x-python",
   "name": "python",
   "nbconvert_exporter": "python",
   "pygments_lexer": "ipython3",
   "version": "3.9.16"
  }
 },
 "nbformat": 4,
 "nbformat_minor": 5
}
