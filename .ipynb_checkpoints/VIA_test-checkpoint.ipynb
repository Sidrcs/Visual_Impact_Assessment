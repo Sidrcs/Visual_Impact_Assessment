{
 "cells": [
  {
   "cell_type": "markdown",
   "id": "84cbd503",
   "metadata": {},
   "source": [
    "### Python functions to perform Visual Impact Assessment (VIA)\n",
    "- Siddharth Ramavajjala, Department of Geography, University of Wisconsin - Madison"
   ]
  },
  {
   "cell_type": "code",
   "execution_count": 1,
   "id": "dfac733f",
   "metadata": {},
   "outputs": [],
   "source": [
    "import geopandas as gpd\n",
    "import pandas as pd\n",
    "from shapely import Point\n",
    "import matplotlib.pyplot as plt"
   ]
  },
  {
   "cell_type": "code",
   "execution_count": 2,
   "id": "b4b4eed0",
   "metadata": {},
   "outputs": [
    {
     "data": {
      "text/html": [
       "<div>\n",
       "<style scoped>\n",
       "    .dataframe tbody tr th:only-of-type {\n",
       "        vertical-align: middle;\n",
       "    }\n",
       "\n",
       "    .dataframe tbody tr th {\n",
       "        vertical-align: top;\n",
       "    }\n",
       "\n",
       "    .dataframe thead th {\n",
       "        text-align: right;\n",
       "    }\n",
       "</style>\n",
       "<table border=\"1\" class=\"dataframe\">\n",
       "  <thead>\n",
       "    <tr style=\"text-align: right;\">\n",
       "      <th></th>\n",
       "      <th>case_id</th>\n",
       "      <th>faa_ors</th>\n",
       "      <th>faa_asn</th>\n",
       "      <th>usgs_pr_id</th>\n",
       "      <th>eia_id</th>\n",
       "      <th>t_state</th>\n",
       "      <th>t_county</th>\n",
       "      <th>t_fips</th>\n",
       "      <th>p_name</th>\n",
       "      <th>p_year</th>\n",
       "      <th>...</th>\n",
       "      <th>t_ttlh</th>\n",
       "      <th>retrofit</th>\n",
       "      <th>retrofit_year</th>\n",
       "      <th>t_conf_atr</th>\n",
       "      <th>t_conf_loc</th>\n",
       "      <th>t_img_date</th>\n",
       "      <th>t_img_srce</th>\n",
       "      <th>xlong</th>\n",
       "      <th>ylat</th>\n",
       "      <th>geometry</th>\n",
       "    </tr>\n",
       "  </thead>\n",
       "  <tbody>\n",
       "    <tr>\n",
       "      <th>0</th>\n",
       "      <td>3123233</td>\n",
       "      <td>40-097764</td>\n",
       "      <td>2021-WTW-7887-OE</td>\n",
       "      <td></td>\n",
       "      <td></td>\n",
       "      <td>OK</td>\n",
       "      <td>Ellis County</td>\n",
       "      <td>40045</td>\n",
       "      <td>25 Mile Creek</td>\n",
       "      <td>2022</td>\n",
       "      <td>...</td>\n",
       "      <td>180</td>\n",
       "      <td>0</td>\n",
       "      <td></td>\n",
       "      <td>1</td>\n",
       "      <td>3</td>\n",
       "      <td>1/4/2023</td>\n",
       "      <td>Digital Globe</td>\n",
       "      <td>-99.775963</td>\n",
       "      <td>36.458096</td>\n",
       "      <td>None</td>\n",
       "    </tr>\n",
       "  </tbody>\n",
       "</table>\n",
       "<p>1 rows × 28 columns</p>\n",
       "</div>"
      ],
      "text/plain": [
       "   case_id    faa_ors           faa_asn usgs_pr_id eia_id t_state  \\\n",
       "0  3123233  40-097764  2021-WTW-7887-OE                        OK   \n",
       "\n",
       "       t_county t_fips         p_name p_year  ... t_ttlh retrofit  \\\n",
       "0  Ellis County  40045  25 Mile Creek   2022  ...    180        0   \n",
       "\n",
       "  retrofit_year t_conf_atr t_conf_loc t_img_date     t_img_srce       xlong  \\\n",
       "0                        1          3   1/4/2023  Digital Globe  -99.775963   \n",
       "\n",
       "        ylat geometry  \n",
       "0  36.458096     None  \n",
       "\n",
       "[1 rows x 28 columns]"
      ]
     },
     "execution_count": 2,
     "metadata": {},
     "output_type": "execute_result"
    }
   ],
   "source": [
    "# Read United States Wind Turbine Database CSV file\n",
    "# URL: https://www.sciencebase.gov/catalog/item/6001e327d34e592d8671fae0 (from USGS)\n",
    "gdf = gpd.read_file(\"datasets/uswtdb.csv\")\n",
    "# Analyze and understand meaning columns\n",
    "gdf.head(1)"
   ]
  },
  {
   "cell_type": "code",
   "execution_count": 3,
   "id": "86725892",
   "metadata": {},
   "outputs": [],
   "source": [
    "# geom() return Point object based on longitude('xlong') and latitude('ylat')\n",
    "def geom(x):\n",
    "    \"\"\"Function to create a Point geometry object and insert into GeoDatFrame\"\"\"\n",
    "    return Point(x['xlong'], x['ylat'])\n",
    "# Update the geometry column using lambda function\n",
    "gdf[\"geometry\"] = gdf.apply(lambda x: geom(x), axis=1)\n",
    "# Print head to check if the column is updated correctly\n",
    "gdf.head(1)"
   ]
  },
  {
   "cell_type": "code",
   "execution_count": 4,
   "id": "1828428c",
   "metadata": {},
   "outputs": [
    {
     "name": "stdout",
     "output_type": "stream",
     "text": [
      "No CRS\n"
     ]
    }
   ],
   "source": [
    "# gdf.crs property check whether a coordinate reference system (CRS) is assigned\n",
    "if gdf.crs == None:\n",
    "    print(\"No CRS\")"
   ]
  },
  {
   "cell_type": "code",
   "execution_count": 5,
   "id": "a6ec97bd",
   "metadata": {},
   "outputs": [],
   "source": [
    "# If no CRS is assigned, use EPSG:4326 as long, lat values are in 3 Dimensional coordinate system\n",
    "gdf = gdf.set_crs('epsg:4326')\n",
    "# Use gdf.explore() to interactively map and view the point locations of wind turbines"
   ]
  },
  {
   "cell_type": "code",
   "execution_count": 6,
   "id": "2bed6233",
   "metadata": {},
   "outputs": [
    {
     "data": {
      "text/plain": [
       "array(['OK', 'CA', 'IA', 'MA', 'OH', 'MN', 'IL', 'NE', 'WY', 'KS', 'PA',\n",
       "       'TX', 'IN', 'NC', 'NM', 'NH', 'MI', 'NY', 'ND', 'SD', 'CO', 'HI',\n",
       "       'PR', 'NJ', 'WV', 'OR', 'AK', 'WA', 'MT', 'ME', 'AR', 'RI', 'WI',\n",
       "       'MO', 'VT', 'TN', 'ID', 'UT', 'VA', 'MD', 'AZ', 'GU', 'CT', 'NV',\n",
       "       'DE'], dtype=object)"
      ]
     },
     "execution_count": 6,
     "metadata": {},
     "output_type": "execute_result"
    }
   ],
   "source": [
    "# Print unique state values for scoping\n",
    "gdf['t_state'].unique()"
   ]
  },
  {
   "cell_type": "code",
   "execution_count": 7,
   "id": "cac646eb",
   "metadata": {},
   "outputs": [
    {
     "data": {
      "text/plain": [
       "569"
      ]
     },
     "execution_count": 7,
     "metadata": {},
     "output_type": "execute_result"
    }
   ],
   "source": [
    "# Print count of unique counties to scope magnitude of dataset\n",
    "gdf['t_county'].nunique()"
   ]
  },
  {
   "cell_type": "code",
   "execution_count": 8,
   "id": "d83148a1",
   "metadata": {},
   "outputs": [
    {
     "name": "stdout",
     "output_type": "stream",
     "text": [
      "State \t Wind Turbine Count\n",
      "OK:5474\n",
      "CA:5989\n",
      "IA:6293\n",
      "MA:92\n",
      "OH:499\n",
      "MN:2744\n",
      "IL:3622\n",
      "NE:1523\n",
      "WY:1463\n",
      "KS:3962\n",
      "PA:752\n",
      "TX:18552\n",
      "IN:1614\n",
      "NC:105\n",
      "NM:1952\n",
      "NH:84\n",
      "MI:1637\n",
      "NY:1233\n",
      "ND:2095\n",
      "SD:1367\n",
      "CO:2835\n",
      "HI:129\n",
      "PR:63\n",
      "NJ:6\n",
      "WV:419\n",
      "OR:2122\n",
      "AK:142\n",
      "WA:1826\n",
      "MT:809\n",
      "ME:417\n",
      "AR:1\n",
      "RI:35\n",
      "WI:452\n",
      "MO:1107\n",
      "VT:73\n",
      "TN:18\n",
      "ID:541\n",
      "UT:208\n",
      "VA:2\n",
      "MD:80\n",
      "AZ:321\n",
      "GU:1\n",
      "CT:3\n",
      "NV:68\n",
      "DE:1\n"
     ]
    }
   ],
   "source": [
    "# Create a dictionary and store Wind Turbine count corresponding to each state\n",
    "print(\"State \\t Wind Turbine Count\")\n",
    "wtb_dict = {}\n",
    "for state in list(gdf['t_state'].unique()):\n",
    "    print(f'{state}:{gdf[\"t_state\"].value_counts()[state]}')\n",
    "    wtb_dict[state] = gdf[\"t_state\"].value_counts()[state]"
   ]
  },
  {
   "cell_type": "code",
   "execution_count": 9,
   "id": "54488245",
   "metadata": {},
   "outputs": [],
   "source": [
    "# Sort the dictionary values in ascending order and store them back\n",
    "sorted_wtb_counts = sorted(wtb_dict.items(), key=lambda x:x[1])\n",
    "wtb_dict = dict(sorted_wtb_counts)"
   ]
  },
  {
   "cell_type": "code",
   "execution_count": 10,
   "id": "ae66cda2",
   "metadata": {},
   "outputs": [
    {
     "data": {
      "text/plain": [
       "{'AR': 1,\n",
       " 'GU': 1,\n",
       " 'DE': 1,\n",
       " 'VA': 2,\n",
       " 'CT': 3,\n",
       " 'NJ': 6,\n",
       " 'TN': 18,\n",
       " 'RI': 35,\n",
       " 'PR': 63,\n",
       " 'NV': 68,\n",
       " 'VT': 73,\n",
       " 'MD': 80,\n",
       " 'NH': 84,\n",
       " 'MA': 92,\n",
       " 'NC': 105,\n",
       " 'HI': 129,\n",
       " 'AK': 142,\n",
       " 'UT': 208,\n",
       " 'AZ': 321,\n",
       " 'ME': 417,\n",
       " 'WV': 419,\n",
       " 'WI': 452,\n",
       " 'OH': 499,\n",
       " 'ID': 541,\n",
       " 'PA': 752,\n",
       " 'MT': 809,\n",
       " 'MO': 1107,\n",
       " 'NY': 1233,\n",
       " 'SD': 1367,\n",
       " 'WY': 1463,\n",
       " 'NE': 1523,\n",
       " 'IN': 1614,\n",
       " 'MI': 1637,\n",
       " 'WA': 1826,\n",
       " 'NM': 1952,\n",
       " 'ND': 2095,\n",
       " 'OR': 2122,\n",
       " 'MN': 2744,\n",
       " 'CO': 2835,\n",
       " 'IL': 3622,\n",
       " 'KS': 3962,\n",
       " 'OK': 5474,\n",
       " 'CA': 5989,\n",
       " 'IA': 6293,\n",
       " 'TX': 18552}"
      ]
     },
     "execution_count": 10,
     "metadata": {},
     "output_type": "execute_result"
    }
   ],
   "source": [
    "# Print to view wind turbine count by state in ascending order\n",
    "wtb_dict"
   ]
  },
  {
   "cell_type": "code",
   "execution_count": 11,
   "id": "9a202abc",
   "metadata": {
    "scrolled": false
   },
   "outputs": [
    {
     "data": {
      "image/png": "[encoded data removed]",
      "text/plain": [
       "<Figure size 1200x800 with 1 Axes>"
      ]
     },
     "metadata": {},
     "output_type": "display_data"
    }
   ],
   "source": [
    "# Plot bar chart for ranking each state\n",
    "plt.bar(list(wtb_dict.keys()), list(wtb_dict.values()))\n",
    "# Adjust the rotation angle to 90 degrees (To avoid label clutter)\n",
    "plt.xticks(rotation=90)  \n",
    "# Adjust the figure size to increase spacing between labels\n",
    "plt.gcf().set_size_inches(12, 8)  # Adjust the width and height as needed\n",
    "# Show the plot\n",
    "plt.show()"
   ]
  },
  {
   "cell_type": "code",
   "execution_count": 12,
   "id": "74c84671",
   "metadata": {},
   "outputs": [
    {
     "name": "stderr",
     "output_type": "stream",
     "text": [
      "C:\\Users\\Sidrcs\\AppData\\Local\\Temp\\ipykernel_19340\\2761893381.py:2: UserWarning: Column names longer than 10 characters will be truncated when saved to ESRI Shapefile.\n",
      "  gdf.to_file(\"datasets/uswtdb.shp\")\n"
     ]
    }
   ],
   "source": [
    "# Create an ESRI output shapefile (after setting projection to EPSG:4326)\n",
    "gdf.to_file(\"datasets/uswtdb.shp\")"
   ]
  },
  {
   "cell_type": "code",
   "execution_count": null,
   "id": "aece352b",
   "metadata": {},
   "outputs": [],
   "source": []
  }
 ],
 "metadata": {
  "kernelspec": {
   "display_name": "Python 3 (ipykernel)",
   "language": "python",
   "name": "python3"
  },
  "language_info": {
   "codemirror_mode": {
    "name": "ipython",
    "version": 3
   },
   "file_extension": ".py",
   "mimetype": "text/x-python",
   "name": "python",
   "nbconvert_exporter": "python",
   "pygments_lexer": "ipython3",
   "version": "3.9.16"
  }
 },
 "nbformat": 4,
 "nbformat_minor": 5
}
